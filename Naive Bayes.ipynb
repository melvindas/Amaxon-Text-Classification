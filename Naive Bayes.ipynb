{
 "cells": [
  {
   "cell_type": "code",
   "execution_count": 2,
   "metadata": {},
   "outputs": [],
   "source": [
    "import warnings\n",
    "warnings.filterwarnings(\"ignore\")\n",
    "\n",
    "import sqlite3\n",
    "import pandas as pd\n",
    "import numpy as np\n",
    "import nltk\n",
    "import string\n",
    "import matplotlib.pyplot as plt\n",
    "import seaborn as sns\n",
    "from sklearn.feature_extraction.text import TfidfTransformer\n",
    "from sklearn.feature_extraction.text import TfidfVectorizer\n",
    "\n",
    "from sklearn.feature_extraction.text import CountVectorizer\n",
    "from sklearn.metrics import confusion_matrix\n",
    "from sklearn import metrics\n",
    "from sklearn.metrics import roc_curve, auc\n",
    "from nltk.stem.porter import PorterStemmer\n",
    "\n",
    "import re\n",
    "import string\n",
    "from nltk.corpus import stopwords\n",
    "from nltk.stem import PorterStemmer\n",
    "from nltk.stem.wordnet import WordNetLemmatizer\n",
    "\n",
    "from gensim.models import Word2Vec\n",
    "from gensim.models import KeyedVectors\n",
    "import pickle\n",
    "\n"
   ]
  },
  {
   "cell_type": "code",
   "execution_count": 3,
   "metadata": {},
   "outputs": [],
   "source": [
    "conn = sqlite3.connect('final.sqlite')\n",
    "c=conn.cursor()\n",
    "conn.text_factory = str\n",
    "final=pd.read_sql_query(\"\"\" SELECT * FROM Reviews\"\"\", conn) "
   ]
  },
  {
   "cell_type": "code",
   "execution_count": 4,
   "metadata": {},
   "outputs": [],
   "source": [
    "final.to_sql('Reviews', conn,  schema=None, if_exists='replace', index=True, index_label=None, chunksize=None, dtype=None)\n",
    "# Sorting data based on time\n",
    "final[\"Time\"] = pd.to_datetime(final[\"Time\"], unit = \"s\")\n",
    "final= final.sort_values(by = \"Time\")"
   ]
  },
  {
   "cell_type": "code",
   "execution_count": 5,
   "metadata": {},
   "outputs": [
    {
     "name": "stdout",
     "output_type": "stream",
     "text": [
      "(137165,) (137165,) (58785,)\n"
     ]
    }
   ],
   "source": [
    "from sklearn.model_selection import train_test_split\n",
    "X = final[\"CleanedText\"]\n",
    "y = final[\"Score\"]\n",
    "X_train, x_test, y_train, y_test = train_test_split(X, y, test_size = 0.3, random_state = 42, shuffle='false')\n",
    "print(X_train.shape, y_train.shape, x_test.shape)"
   ]
  },
  {
   "cell_type": "code",
   "execution_count": 8,
   "metadata": {},
   "outputs": [
    {
     "data": {
      "text/plain": [
       "<137165x44121 sparse matrix of type '<class 'numpy.int64'>'\n",
       "\twith 4364956 stored elements in Compressed Sparse Row format>"
      ]
     },
     "execution_count": 8,
     "metadata": {},
     "output_type": "execute_result"
    }
   ],
   "source": [
    "bow = CountVectorizer(binary=True)\n",
    "X_train = bow.fit_transform(X_train)\n",
    "X_train"
   ]
  },
  {
   "cell_type": "code",
   "execution_count": 9,
   "metadata": {},
   "outputs": [],
   "source": [
    "x_test = bow.transform(x_test)\n",
    "x_test.shape\n",
    "from sklearn.model_selection import TimeSeriesSplit\n",
    "tscv = TimeSeriesSplit(n_splits=10)\n"
   ]
  },
  {
   "cell_type": "code",
   "execution_count": 10,
   "metadata": {},
   "outputs": [
    {
     "name": "stdout",
     "output_type": "stream",
     "text": [
      "Fitting 3 folds for each of 15 candidates, totalling 45 fits\n"
     ]
    },
    {
     "name": "stderr",
     "output_type": "stream",
     "text": [
      "[Parallel(n_jobs=1)]: Done  45 out of  45 | elapsed:   40.5s finished\n"
     ]
    },
    {
     "name": "stdout",
     "output_type": "stream",
     "text": [
      "Best HyperParameter:  {'alpha': 1}\n",
      "Best Accuracy: 86.90%\n"
     ]
    }
   ],
   "source": [
    "from sklearn.model_selection import TimeSeriesSplit\n",
    "from sklearn.naive_bayes import BernoulliNB\n",
    "from sklearn.model_selection import GridSearchCV\n",
    "nb = BernoulliNB()\n",
    "# neigh = np.arange(1,100,2)\n",
    "param_grid = {'alpha':np.arange(1,30,2)} #params we need to try on classifier\n",
    "tscv = TimeSeriesSplit(n_splits=3) #For time based splitting\n",
    "gsv = GridSearchCV(nb,param_grid,cv=tscv,verbose=1)\n",
    "gsv.fit(X_train,y_train)\n",
    "print(\"Best HyperParameter: \",gsv.best_params_)\n",
    "print(\"Best Accuracy: %.2f%%\"%(gsv.best_score_*100))"
   ]
  },
  {
   "cell_type": "code",
   "execution_count": 11,
   "metadata": {},
   "outputs": [
    {
     "name": "stdout",
     "output_type": "stream",
     "text": [
      "\n",
      "The accuracy of the nb for alpha = 1 is 88.197669%\n",
      "\n",
      "The f1 score of the nb for alpha = 1 is 76.313522%\n",
      "\n",
      "The recall score of the nb for alpha = 1 is 74.958576%\n",
      "\n",
      "The precision score of the nb for alpha = 1 is 77.960623%\n"
     ]
    },
    {
     "data": {
      "text/plain": [
       "<matplotlib.axes._subplots.AxesSubplot at 0x2c47ecda7f0>"
      ]
     },
     "execution_count": 11,
     "metadata": {},
     "output_type": "execute_result"
    },
    {
     "data": {
      "image/png": "[encoded data removed]",
      "text/plain": [
       "<Figure size 432x288 with 2 Axes>"
      ]
     },
     "metadata": {},
     "output_type": "display_data"
    }
   ],
   "source": [
    "from sklearn.metrics import accuracy_score,precision_score,recall_score,confusion_matrix,classification_report,f1_score\n",
    "\n",
    "# instantiate learning model k = optimal_k\n",
    "nb = BernoulliNB(alpha=1)\n",
    "\n",
    "# fitting the model\n",
    "nb.fit(X_train, y_train)\n",
    "\n",
    "# predict the response\n",
    "pred = nb.predict(x_test)\n",
    "\n",
    "# evaluate accuracy\n",
    "acc = accuracy_score(y_test, pred) * 100\n",
    "f1=f1_score(y_test, pred,average= 'macro')*100\n",
    "r=recall_score(y_test, pred,average= 'macro')*100\n",
    "p=precision_score(y_test, pred,average= 'macro')*100\n",
    "    \n",
    "\n",
    "print('\\nThe accuracy of the nb for alpha = %d is %f%%' % (1, acc))\n",
    "print('\\nThe f1 score of the nb for alpha = %d is %f%%' % (1, f1))\n",
    "print('\\nThe recall score of the nb for alpha = %d is %f%%' % (1, r))\n",
    "print('\\nThe precision score of the nb for alpha = %d is %f%%' % (1, p))\n",
    "df_cm = pd.DataFrame(confusion_matrix(y_test, pred), range(2),range(2))\n",
    "sns.set(font_scale=1.4)#for label size\n",
    "sns.heatmap(df_cm, annot=True,annot_kws={\"size\": 16}, fmt='g')"
   ]
  },
  {
   "cell_type": "code",
   "execution_count": 12,
   "metadata": {},
   "outputs": [
    {
     "name": "stdout",
     "output_type": "stream",
     "text": [
      "\n",
      "Top 10 features for  positive and negative class\n",
      "['tast' 'like' 'product' 'one' 'would' 'tri' 'good' 'flavor' 'buy' 'get']\n",
      "['like' 'tast' 'love' 'good' 'great' 'flavor' 'one' 'use' 'tri' 'product']\n"
     ]
    }
   ],
   "source": [
    "neg_class_prob_sorted = nb.feature_log_prob_[0, :].argsort()\n",
    "pos_class_prob_sorted = nb.feature_log_prob_[1, :].argsort()\n",
    "pos_class_prob_sorted = pos_class_prob_sorted[::-1]\n",
    "neg_class_prob_sorted = neg_class_prob_sorted[::-1]\n",
    "print('\\nTop 10 features for  positive and negative class')\n",
    "print(np.take(bow.get_feature_names(), neg_class_prob_sorted[:10]))\n",
    "print(np.take(bow.get_feature_names(), pos_class_prob_sorted[:10]))"
   ]
  },
  {
   "cell_type": "code",
   "execution_count": 14,
   "metadata": {},
   "outputs": [
    {
     "name": "stdout",
     "output_type": "stream",
     "text": [
      "\n",
      "The accuracy of the nb for alpha = 1 is 90.642171%\n",
      "\n",
      "The f1 score of the nb for alpha = 1 is 81.114284%\n",
      "\n",
      "The recall score of the nb for alpha = 1 is 79.348897%\n",
      "\n",
      "The precision score of the nb for alpha = 1 is 83.283987%\n"
     ]
    },
    {
     "data": {
      "text/plain": [
       "<matplotlib.axes._subplots.AxesSubplot at 0x2c4096177b8>"
      ]
     },
     "execution_count": 14,
     "metadata": {},
     "output_type": "execute_result"
    },
    {
     "data": {
      "image/png": "[encoded data removed]",
      "text/plain": [
       "<Figure size 432x288 with 2 Axes>"
      ]
     },
     "metadata": {},
     "output_type": "display_data"
    }
   ],
   "source": [
    "from sklearn.metrics import accuracy_score\n",
    "from sklearn.naive_bayes import MultinomialNB\n",
    "# instantiate learning model k = optimal_k\n",
    "nb = MultinomialNB(alpha=1)\n",
    "\n",
    "# fitting the model\n",
    "nb.fit(X_train, y_train)\n",
    "\n",
    "# predict the response\n",
    "pred = nb.predict(x_test)\n",
    "\n",
    "# evaluate accuracy\n",
    "acc = accuracy_score(y_test, pred) * 100\n",
    "acc = accuracy_score(y_test, pred) * 100\n",
    "f1=f1_score(y_test, pred,average= 'macro')*100\n",
    "r=recall_score(y_test, pred,average= 'macro')*100\n",
    "p=precision_score(y_test, pred,average= 'macro')*100\n",
    "    \n",
    "\n",
    "print('\\nThe accuracy of the nb for alpha = %d is %f%%' % (1, acc))\n",
    "print('\\nThe f1 score of the nb for alpha = %d is %f%%' % (1, f1))\n",
    "print('\\nThe recall score of the nb for alpha = %d is %f%%' % (1, r))\n",
    "print('\\nThe precision score of the nb for alpha = %d is %f%%' % (1, p))\n",
    "df_cm = pd.DataFrame(confusion_matrix(y_test, pred), range(2),range(2))\n",
    "sns.set(font_scale=1.4)#for label size\n",
    "sns.heatmap(df_cm, annot=True,annot_kws={\"size\": 16}, fmt='g')"
   ]
  },
  {
   "cell_type": "code",
   "execution_count": 15,
   "metadata": {},
   "outputs": [
    {
     "name": "stdout",
     "output_type": "stream",
     "text": [
      "\n",
      "Top 10 features for  positive and negative class\n",
      "['tast' 'like' 'product' 'one' 'would' 'tri' 'good' 'flavor' 'buy' 'get']\n",
      "['like' 'tast' 'love' 'good' 'great' 'flavor' 'one' 'use' 'tri' 'product']\n"
     ]
    }
   ],
   "source": [
    "neg_class_prob_sorted = nb.feature_log_prob_[0, :].argsort()\n",
    "pos_class_prob_sorted = nb.feature_log_prob_[1, :].argsort()\n",
    "pos_class_prob_sorted = pos_class_prob_sorted[::-1]\n",
    "neg_class_prob_sorted = neg_class_prob_sorted[::-1]\n",
    "print('\\nTop 10 features for  positive and negative class')\n",
    "print(np.take(bow.get_feature_names(), neg_class_prob_sorted[:10]))\n",
    "print(np.take(bow.get_feature_names(), pos_class_prob_sorted[:10]))"
   ]
  },
  {
   "cell_type": "code",
   "execution_count": 21,
   "metadata": {},
   "outputs": [
    {
     "name": "stdout",
     "output_type": "stream",
     "text": [
      "(137165,) (58785,) (137165,) (58785,)\n"
     ]
    }
   ],
   "source": [
    "X = final[\"CleanedText\"]\n",
    "y = final[\"Score\"]\n",
    "X_train, x_test, y_train, y_test = train_test_split(X, y, test_size = 0.3, random_state = 42,shuffle='false')\n",
    "print(X_train.shape, x_test.shape, y_train.shape, y_test.shape)"
   ]
  },
  {
   "cell_type": "code",
   "execution_count": 22,
   "metadata": {},
   "outputs": [],
   "source": [
    "tf_idf_vect = TfidfVectorizer()\n",
    "X_train = tf_idf_vect.fit_transform(X_train)"
   ]
  },
  {
   "cell_type": "code",
   "execution_count": 23,
   "metadata": {},
   "outputs": [],
   "source": [
    "x_test = tf_idf_vect.transform(x_test)\n"
   ]
  },
  {
   "cell_type": "code",
   "execution_count": 19,
   "metadata": {},
   "outputs": [
    {
     "name": "stdout",
     "output_type": "stream",
     "text": [
      "Fitting 3 folds for each of 15 candidates, totalling 45 fits\n"
     ]
    },
    {
     "name": "stderr",
     "output_type": "stream",
     "text": [
      "[Parallel(n_jobs=1)]: Done  45 out of  45 | elapsed:  1.1min finished\n"
     ]
    },
    {
     "name": "stdout",
     "output_type": "stream",
     "text": [
      "Best HyperParameter:  {'alpha': 29}\n",
      "Best Accuracy: 84.06%\n"
     ]
    }
   ],
   "source": [
    "from sklearn.model_selection import TimeSeriesSplit\n",
    "from sklearn.naive_bayes import BernoulliNB\n",
    "from sklearn.model_selection import GridSearchCV\n",
    "nb = BernoulliNB()\n",
    "# neigh = np.arange(1,100,2)\n",
    "param_grid = {'alpha':np.arange(1,30,2)} #params we need to try on classifier\n",
    "tscv = TimeSeriesSplit(n_splits=3) #For time based splitting\n",
    "gsv = GridSearchCV(nb,param_grid,cv=tscv,verbose=1)\n",
    "gsv.fit(X_train,y_train)\n",
    "print(\"Best HyperParameter: \",gsv.best_params_)\n",
    "print(\"Best Accuracy: %.2f%%\"%(gsv.best_score_*100))"
   ]
  },
  {
   "cell_type": "code",
   "execution_count": 24,
   "metadata": {},
   "outputs": [
    {
     "name": "stdout",
     "output_type": "stream",
     "text": [
      "\n",
      "The accuracy of the nb for alpha = 29 is 84.344646%\n",
      "\n",
      "The f1 score of the nb for alpha = 29 is 46.881622%\n",
      "\n",
      "The recall score of the nb for alpha = 29 is 50.431987%\n",
      "\n",
      "The precision score of the nb for alpha = 29 is 63.003251%\n"
     ]
    },
    {
     "data": {
      "text/plain": [
       "<matplotlib.axes._subplots.AxesSubplot at 0x2c47d9ad518>"
      ]
     },
     "execution_count": 24,
     "metadata": {},
     "output_type": "execute_result"
    },
    {
     "data": {
      "image/png": "[encoded data removed]",
      "text/plain": [
       "<Figure size 432x288 with 2 Axes>"
      ]
     },
     "metadata": {},
     "output_type": "display_data"
    }
   ],
   "source": [
    "from sklearn.metrics import accuracy_score,precision_score,recall_score,confusion_matrix,classification_report,f1_score\n",
    "\n",
    "# instantiate learning model k = optimal_k\n",
    "nb = BernoulliNB(alpha=29)\n",
    "\n",
    "# fitting the model\n",
    "nb.fit(X_train, y_train)\n",
    "\n",
    "# predict the response\n",
    "pred = nb.predict(x_test)\n",
    "\n",
    "# evaluate accuracy\n",
    "acc = accuracy_score(y_test, pred) * 100\n",
    "f1=f1_score(y_test, pred,average= 'macro')*100\n",
    "r=recall_score(y_test, pred,average= 'macro')*100\n",
    "p=precision_score(y_test, pred,average= 'macro')*100\n",
    "    \n",
    "\n",
    "print('\\nThe accuracy of the nb for alpha = %d is %f%%' % (29, acc))\n",
    "print('\\nThe f1 score of the nb for alpha = %d is %f%%' % (29, f1))\n",
    "print('\\nThe recall score of the nb for alpha = %d is %f%%' % (29, r))\n",
    "print('\\nThe precision score of the nb for alpha = %d is %f%%' % (29, p))\n",
    "df_cm = pd.DataFrame(confusion_matrix(y_test, pred), range(2),range(2))\n",
    "sns.set(font_scale=1.4)#for label size\n",
    "sns.heatmap(df_cm, annot=True,annot_kws={\"size\": 16}, fmt='g')"
   ]
  },
  {
   "cell_type": "code",
   "execution_count": 25,
   "metadata": {},
   "outputs": [
    {
     "name": "stdout",
     "output_type": "stream",
     "text": [
      "\n",
      "Top 10 features for  positive and negative class\n",
      "['tast' 'like' 'product' 'one' 'would' 'tri' 'good' 'flavor' 'buy' 'get']\n",
      "['like' 'tast' 'love' 'good' 'great' 'flavor' 'one' 'use' 'tri' 'product']\n"
     ]
    }
   ],
   "source": [
    "neg_class_prob_sorted = nb.feature_log_prob_[0, :].argsort()\n",
    "pos_class_prob_sorted = nb.feature_log_prob_[1, :].argsort()\n",
    "pos_class_prob_sorted = pos_class_prob_sorted[::-1]\n",
    "neg_class_prob_sorted = neg_class_prob_sorted[::-1]\n",
    "print('\\nTop 10 features for  positive and negative class')\n",
    "print(np.take(tf_idf_vect.get_feature_names(), neg_class_prob_sorted[:10]))\n",
    "print(np.take(tf_idf_vect.get_feature_names(), pos_class_prob_sorted[:10]))"
   ]
  },
  {
   "cell_type": "code",
   "execution_count": 26,
   "metadata": {},
   "outputs": [
    {
     "name": "stdout",
     "output_type": "stream",
     "text": [
      "\n",
      "The accuracy of the nb for alpha = 1 is 85.443566%\n",
      "\n",
      "The f1 score of the nb for alpha = 1 is 52.569704%\n",
      "\n",
      "The recall score of the nb for alpha = 1 is 53.473351%\n",
      "\n",
      "The precision score of the nb for alpha = 1 is 89.610766%\n"
     ]
    },
    {
     "data": {
      "text/plain": [
       "<matplotlib.axes._subplots.AxesSubplot at 0x2c4084f5278>"
      ]
     },
     "execution_count": 26,
     "metadata": {},
     "output_type": "execute_result"
    },
    {
     "data": {
      "image/png": "[encoded data removed]",
      "text/plain": [
       "<Figure size 432x288 with 2 Axes>"
      ]
     },
     "metadata": {},
     "output_type": "display_data"
    }
   ],
   "source": [
    "from sklearn.metrics import accuracy_score\n",
    "from sklearn.naive_bayes import MultinomialNB\n",
    "# instantiate learning model k = optimal_k\n",
    "nb = MultinomialNB(alpha=1)\n",
    "\n",
    "# fitting the model\n",
    "nb.fit(X_train, y_train)\n",
    "\n",
    "# predict the response\n",
    "pred = nb.predict(x_test)\n",
    "\n",
    "# evaluate accuracy\n",
    "acc = accuracy_score(y_test, pred) * 100\n",
    "acc = accuracy_score(y_test, pred) * 100\n",
    "f1=f1_score(y_test, pred,average= 'macro')*100\n",
    "r=recall_score(y_test, pred,average= 'macro')*100\n",
    "p=precision_score(y_test, pred,average= 'macro')*100\n",
    "\n",
    "print('\\nThe accuracy of the nb for alpha = %d is %f%%' % (1, acc))\n",
    "print('\\nThe f1 score of the nb for alpha = %d is %f%%' % (1, f1))\n",
    "print('\\nThe recall score of the nb for alpha = %d is %f%%' % (1, r))\n",
    "print('\\nThe precision score of the nb for alpha = %d is %f%%' % (1, p))\n",
    "df_cm = pd.DataFrame(confusion_matrix(y_test, pred), range(2),range(2))\n",
    "sns.set(font_scale=1.4)#for label size\n",
    "sns.heatmap(df_cm, annot=True,annot_kws={\"size\": 16}, fmt='g')"
   ]
  },
  {
   "cell_type": "code",
   "execution_count": 28,
   "metadata": {},
   "outputs": [
    {
     "name": "stdout",
     "output_type": "stream",
     "text": [
      "\n",
      "Top 10 features for  positive and negative class\n",
      "['tast' 'like' 'product' 'coffe' 'would' 'flavor' 'one' 'tri' 'buy'\n",
      " 'order']\n",
      "['great' 'love' 'good' 'tast' 'like' 'coffe' 'flavor' 'tea' 'product'\n",
      " 'use']\n"
     ]
    }
   ],
   "source": [
    "neg_class_prob_sorted = nb.feature_log_prob_[0, :].argsort()\n",
    "pos_class_prob_sorted = nb.feature_log_prob_[1, :].argsort()\n",
    "pos_class_prob_sorted = pos_class_prob_sorted[::-1]\n",
    "neg_class_prob_sorted = neg_class_prob_sorted[::-1]\n",
    "print('\\nTop 10 features for  positive and negative class')\n",
    "print(np.take(tf_idf_vect.get_feature_names(), neg_class_prob_sorted[:10]))\n",
    "print(np.take(tf_idf_vect.get_feature_names(), pos_class_prob_sorted[:10]))"
   ]
  },
  {
   "cell_type": "code",
   "execution_count": 29,
   "metadata": {},
   "outputs": [
    {
     "name": "stdout",
     "output_type": "stream",
     "text": [
      "+------------------+-----------------+----------+----------+--------+-----------------+\n",
      "|      Model       | Hyper parameter | accuracy | f1 score | recall | precision score |\n",
      "+------------------+-----------------+----------+----------+--------+-----------------+\n",
      "|  BERNOULLI BOW   |        1        |  86.67   |  73.77   | 71.83  |      76.55      |\n",
      "| MULTINOMIAL BOW  |        1        |  89.59   |  80.09   | 78.35  |      82.28      |\n",
      "| BERNOULLI TFIDF  |        11       |   83.3   |  45.44   | 49.99  |      41.65      |\n",
      "| MULTINOMIAL TFID |        11       |   83.3   |  45.44   |   50   |      41.65      |\n",
      "+------------------+-----------------+----------+----------+--------+-----------------+\n"
     ]
    }
   ],
   "source": [
    "import sys\n",
    "sys.path.append('c://users/melvi/appdata/local/programs/python/python36/lib/site-packages')\n",
    "\n",
    "from prettytable import PrettyTable\n",
    "x = PrettyTable()\n",
    "\n",
    "x.field_names = [\"Model\", \"Hyper parameter\", \"accuracy\", \"f1 score\",\"recall\",\"precision score\"]\n",
    "x.add_row([\"BERNOULLI BOW\", 1, 86.67, 73.77,71.83,76.55])\n",
    "x.add_row([\"MULTINOMIAL BOW\", 1, 89.59, 80.09,78.35,82.28])\n",
    "x.add_row([\"BERNOULLI TFIDF\", 11, 83.3, 45.44,49.99,41.65])\n",
    "x.add_row([\"MULTINOMIAL TFID\", 11, 83.3, 45.44,50,41.65])\n",
    "print(x)\n",
    "\n"
   ]
  },
  {
   "cell_type": "code",
   "execution_count": null,
   "metadata": {},
   "outputs": [],
   "source": []
  }
 ],
 "metadata": {
  "kernelspec": {
   "display_name": "Python 3",
   "language": "python",
   "name": "python3"
  },
  "language_info": {
   "codemirror_mode": {
    "name": "ipython",
    "version": 3
   },
   "file_extension": ".py",
   "mimetype": "text/x-python",
   "name": "python",
   "nbconvert_exporter": "python",
   "pygments_lexer": "ipython3",
   "version": "3.6.5"
  }
 },
 "nbformat": 4,
 "nbformat_minor": 2
}
